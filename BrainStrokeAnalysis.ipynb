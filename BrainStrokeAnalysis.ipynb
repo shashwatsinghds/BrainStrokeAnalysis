{
 "cells": [
  {
   "cell_type": "markdown",
   "id": "90f39642",
   "metadata": {},
   "source": [
    "# Brain Stroke Analysis\n",
    "### Author: Shashwat Singh"
   ]
  },
  {
   "cell_type": "markdown",
   "id": "27a14e71",
   "metadata": {},
   "source": [
    "For this application exercise, we will work with data on fish.\n",
    "The dataset we will use, called `fish`, is on two common fish species in fish market sales."
   ]
  },
  {
   "cell_type": "code",
   "execution_count": 3,
   "id": "32ebe9f3",
   "metadata": {
    "label": "load-packages-data",
    "message": false
   },
   "outputs": [],
   "source": [
    "\n",
    "import pandas as pd\n",
    "import seaborn as sns\n",
    "import matplotlib.pyplot as plt\n",
    "from sklearn.linear_model import LinearRegression\n",
    "import numpy as np\n",
    "\n",
    "brain_stroke = pd.read_csv(\"data/brain_stroke.csv\")\n",
    "    "
   ]
  },
  {
   "cell_type": "markdown",
   "id": "e73d2a7a",
   "metadata": {},
   "source": [
    "\n",
    "The data dictionary is below:\n",
    "\n",
    "| **Variable**      | **Description**                                          |\n",
    "|-------------------|----------------------------------------------------------|\n",
    "| `gender`          | Gender of the individual (Male, Female)                  |\n",
    "| `age`             | Age of the individual in years                           |\n",
    "| `hypertension`    | 0 = No hypertension, 1 = Hypertension                    |\n",
    "| `heart_disease`   | 0 = No heart disease, 1 = Heart disease                  |\n",
    "| `ever_married`    | Marital status (Yes, No)                                 |\n",
    "| `work_type`       | Type of work (Private, Self-employed, Government job, etc.)|\n",
    "| `Residence_type`  | Living environment (Urban, Rural)                        |\n",
    "| `avg_glucose_level` | Average glucose level in blood (mg/dL)                 |\n",
    "| `bmi`             | Body Mass Index of the individual                        |\n",
    "| `smoking_status`  | Smoking status (formerly smoked, never smoked, smokes, unknown)|\n",
    "| `stroke`          | Target variable (0 = No stroke, 1 = Stroke)              |\n"
   ]
  }
 ],
 "metadata": {
  "kernelspec": {
   "display_name": "base",
   "language": "python",
   "name": "python3"
  },
  "language_info": {
   "codemirror_mode": {
    "name": "ipython",
    "version": 3
   },
   "file_extension": ".py",
   "mimetype": "text/x-python",
   "name": "python",
   "nbconvert_exporter": "python",
   "pygments_lexer": "ipython3",
   "version": "3.11.4"
  }
 },
 "nbformat": 4,
 "nbformat_minor": 5
}
